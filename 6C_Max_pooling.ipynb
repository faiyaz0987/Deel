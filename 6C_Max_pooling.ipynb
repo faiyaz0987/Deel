{
  "nbformat": 4,
  "nbformat_minor": 0,
  "metadata": {
    "colab": {
      "provenance": [],
      "authorship_tag": "ABX9TyOGOUxw4xW0PAGu6EaDFhHL",
      "include_colab_link": true
    },
    "kernelspec": {
      "name": "python3",
      "display_name": "Python 3"
    },
    "language_info": {
      "name": "python"
    }
  },
  "cells": [
    {
      "cell_type": "markdown",
      "metadata": {
        "id": "view-in-github",
        "colab_type": "text"
      },
      "source": [
        "<a href=\"https://colab.research.google.com/github/faiyaz0987/Deel/blob/main/6C_Max_pooling.ipynb\" target=\"_parent\"><img src=\"https://colab.research.google.com/assets/colab-badge.svg\" alt=\"Open In Colab\"/></a>"
      ]
    },
    {
      "cell_type": "code",
      "execution_count": 1,
      "metadata": {
        "id": "ma8f56hCmBi-"
      },
      "outputs": [],
      "source": [
        "import numpy as np\n",
        "from tensorflow.keras.layers import MaxPooling2D"
      ]
    },
    {
      "cell_type": "code",
      "source": [
        "random_matrix_3 = np.random.randint(-10, 11, size=(3, 3)).astype(float)\n",
        "print(random_matrix_3)\n",
        "max_1 = MaxPooling2D(pool_size=(2, 2), strides=(1,1))\n",
        "# Reshape the input to be 4-dimensional (batch_size, height, width, channels)\n",
        "input_matrix = random_matrix_3.reshape(1, 3, 3, 1)\n",
        "print(input_matrix)\n",
        "# Apply max pooling to the input matrix\n",
        "output_matrix = max_1(input_matrix)\n",
        "print(output_matrix)"
      ],
      "metadata": {
        "colab": {
          "base_uri": "https://localhost:8080/"
        },
        "id": "femiHG15mU5l",
        "outputId": "35a1f07e-ab05-47bc-bc72-b8192bff2322"
      },
      "execution_count": 8,
      "outputs": [
        {
          "output_type": "stream",
          "name": "stdout",
          "text": [
            "[[-3.  6.  2.]\n",
            " [ 3.  1.  1.]\n",
            " [ 3.  9.  9.]]\n",
            "[[[[-3.]\n",
            "   [ 6.]\n",
            "   [ 2.]]\n",
            "\n",
            "  [[ 3.]\n",
            "   [ 1.]\n",
            "   [ 1.]]\n",
            "\n",
            "  [[ 3.]\n",
            "   [ 9.]\n",
            "   [ 9.]]]]\n",
            "tf.Tensor(\n",
            "[[[[6.]\n",
            "   [6.]]\n",
            "\n",
            "  [[9.]\n",
            "   [9.]]]], shape=(1, 2, 2, 1), dtype=float32)\n"
          ]
        }
      ]
    },
    {
      "cell_type": "code",
      "source": [
        "random_matrix_4 = np.random.randint(-10, 11, size=(4, 4)).astype(float)\n",
        "print(random_matrix_4)"
      ],
      "metadata": {
        "colab": {
          "base_uri": "https://localhost:8080/"
        },
        "id": "f_NoKw02ncQI",
        "outputId": "240c7537-597e-4b95-8c27-1179b687cfb4"
      },
      "execution_count": 9,
      "outputs": [
        {
          "output_type": "stream",
          "name": "stdout",
          "text": [
            "[[-7. -3.  9.  2.]\n",
            " [-1.  8.  9. -7.]\n",
            " [-9.  7. -8.  1.]\n",
            " [-9.  6. -8. -4.]]\n"
          ]
        }
      ]
    },
    {
      "cell_type": "code",
      "source": [
        "input_matrix = random_matrix_4.reshape(1, 4, 4, 1)\n",
        "print(input_matrix)"
      ],
      "metadata": {
        "colab": {
          "base_uri": "https://localhost:8080/"
        },
        "id": "szbhoFZjntAE",
        "outputId": "1445b526-617e-44bf-ac4a-e479ca99b781"
      },
      "execution_count": 10,
      "outputs": [
        {
          "output_type": "stream",
          "name": "stdout",
          "text": [
            "[[[[-7.]\n",
            "   [-3.]\n",
            "   [ 9.]\n",
            "   [ 2.]]\n",
            "\n",
            "  [[-1.]\n",
            "   [ 8.]\n",
            "   [ 9.]\n",
            "   [-7.]]\n",
            "\n",
            "  [[-9.]\n",
            "   [ 7.]\n",
            "   [-8.]\n",
            "   [ 1.]]\n",
            "\n",
            "  [[-9.]\n",
            "   [ 6.]\n",
            "   [-8.]\n",
            "   [-4.]]]]\n"
          ]
        }
      ]
    },
    {
      "cell_type": "code",
      "source": [
        "max_pool_2 = MaxPooling2D(pool_size=(2, 2), strides=(1,1), padding = 'valid')\n",
        "print(max_pool_2(input_matrix))"
      ],
      "metadata": {
        "colab": {
          "base_uri": "https://localhost:8080/"
        },
        "id": "Ci0LYo3_nxnD",
        "outputId": "15e3b1b0-bab0-4cdd-f1b6-8e89a25a5a00"
      },
      "execution_count": 18,
      "outputs": [
        {
          "output_type": "stream",
          "name": "stdout",
          "text": [
            "tf.Tensor(\n",
            "[[[[8.]\n",
            "   [9.]\n",
            "   [9.]]\n",
            "\n",
            "  [[8.]\n",
            "   [9.]\n",
            "   [9.]]\n",
            "\n",
            "  [[7.]\n",
            "   [7.]\n",
            "   [1.]]]], shape=(1, 3, 3, 1), dtype=float32)\n"
          ]
        }
      ]
    },
    {
      "cell_type": "code",
      "source": [],
      "metadata": {
        "id": "HrBYqJoWoYW_"
      },
      "execution_count": null,
      "outputs": []
    }
  ]
}
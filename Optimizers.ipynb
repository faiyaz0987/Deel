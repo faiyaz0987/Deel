{
  "nbformat": 4,
  "nbformat_minor": 0,
  "metadata": {
    "colab": {
      "provenance": [],
      "authorship_tag": "ABX9TyPi2H1SZKp3/tUTIM5aVtcR",
      "include_colab_link": true
    },
    "kernelspec": {
      "name": "python3",
      "display_name": "Python 3"
    },
    "language_info": {
      "name": "python"
    }
  },
  "cells": [
    {
      "cell_type": "markdown",
      "metadata": {
        "id": "view-in-github",
        "colab_type": "text"
      },
      "source": [
        "<a href=\"https://colab.research.google.com/github/faiyaz0987/Deel/blob/main/Optimizers.ipynb\" target=\"_parent\"><img src=\"https://colab.research.google.com/assets/colab-badge.svg\" alt=\"Open In Colab\"/></a>"
      ]
    },
    {
      "cell_type": "code",
      "source": [
        "import tensorflow as tf\n",
        "from tensorflow.keras.models import Sequential\n",
        "from tensorflow.keras.layers import Dense\n",
        "from tensorflow.keras.optimizers import Adagrad\n",
        "\n",
        "\n",
        "x_train = tf.constant([[1.0], [2.0], [3.0], [4.0]])\n",
        "y_train = tf.constant([[2.0], [4.0], [6.0], [8.0]])\n",
        "\n",
        "\n",
        "loss_fn = tf.keras.losses.MeanSquaredError()\n",
        "\n",
        "\n",
        "optimizer_adagrad = Adagrad(learning_rate=0.01)\n",
        "\n",
        "\n",
        "model_adagrad = Sequential([Dense(1, input_shape=(1,))])\n",
        "\n",
        "\n",
        "epochs = 100\n",
        "for epoch in range(epochs):\n",
        "    with tf.GradientTape() as tape:\n",
        "\n",
        "        predictions_adagrad = model_adagrad(x_train)\n",
        "        loss_adagrad = loss_fn(y_train, predictions_adagrad)\n",
        "    gradients_adagrad = tape.gradient(loss_adagrad, model_adagrad.trainable_variables)\n",
        "\n",
        "\n",
        "    optimizer_adagrad.apply_gradients(zip(gradients_adagrad, model_adagrad.trainable_variables))\n",
        "\n",
        "    if epoch % 10 == 0:\n",
        "        print(f\"Epoch {epoch}, Loss (Adagrad): {loss_adagrad.numpy()}\")\n",
        "\n",
        "print(f\"Final weights (Adagrad): {model_adagrad.get_weights()}\")"
      ],
      "metadata": {
        "colab": {
          "base_uri": "https://localhost:8080/"
        },
        "id": "jQkF5eoRWGch",
        "outputId": "3786eb4f-f6e5-470a-bbdf-6d1c01050cd8"
      },
      "execution_count": 9,
      "outputs": [
        {
          "output_type": "stream",
          "name": "stderr",
          "text": [
            "/usr/local/lib/python3.12/dist-packages/keras/src/layers/core/dense.py:93: UserWarning: Do not pass an `input_shape`/`input_dim` argument to a layer. When using Sequential models, prefer using an `Input(shape)` object as the first layer in the model instead.\n",
            "  super().__init__(activity_regularizer=activity_regularizer, **kwargs)\n"
          ]
        },
        {
          "output_type": "stream",
          "name": "stdout",
          "text": [
            "Epoch 0, Loss (Adagrad): 33.63005447387695\n",
            "Epoch 10, Loss (Adagrad): 31.550569534301758\n",
            "Epoch 20, Loss (Adagrad): 30.52045440673828\n",
            "Epoch 30, Loss (Adagrad): 29.740257263183594\n",
            "Epoch 40, Loss (Adagrad): 29.09137725830078\n",
            "Epoch 50, Loss (Adagrad): 28.526935577392578\n",
            "Epoch 60, Loss (Adagrad): 28.02267074584961\n",
            "Epoch 70, Loss (Adagrad): 27.564090728759766\n",
            "Epoch 80, Loss (Adagrad): 27.141725540161133\n",
            "Epoch 90, Loss (Adagrad): 26.748971939086914\n",
            "Final weights (Adagrad): [array([[0.06419799]], dtype=float32), array([0.18151581], dtype=float32)]\n"
          ]
        }
      ]
    },
    {
      "cell_type": "code",
      "source": [
        "from tensorflow.keras.optimizers import SGD\n",
        "SGD_optimiser = SGD(learning_rate=0.01)\n",
        "SGD_model = Sequential([Dense(1, input_shape=(1,))])\n",
        "for epoch in range(epochs):\n",
        "    with tf.GradientTape() as tape:\n",
        "\n",
        "        predictions_SGD = SGD_model(x_train)\n",
        "        loss_SGD = loss_fn(y_train, predictions_SGD)\n",
        "    gradients = tape.gradient(loss_SGD, SGD_model.trainable_variables)\n",
        "    SGD_optimiser.apply_gradients(zip(gradients, SGD_model.trainable_variables))\n",
        "    if epoch % 10 == 0:\n",
        "        print(f\"Epoch {epoch}, Loss (SGD): {loss_SGD.numpy()}\")\n",
        "\n",
        "print(  f\"Final weights (SGD): {SGD_model.get_weights()}\")"
      ],
      "metadata": {
        "colab": {
          "base_uri": "https://localhost:8080/"
        },
        "id": "Vz9NEZA0XI7U",
        "outputId": "e3abed67-eea5-4d72-86be-c7be86ec6959"
      },
      "execution_count": 12,
      "outputs": [
        {
          "output_type": "stream",
          "name": "stderr",
          "text": [
            "/usr/local/lib/python3.12/dist-packages/keras/src/layers/core/dense.py:93: UserWarning: Do not pass an `input_shape`/`input_dim` argument to a layer. When using Sequential models, prefer using an `Input(shape)` object as the first layer in the model instead.\n",
            "  super().__init__(activity_regularizer=activity_regularizer, **kwargs)\n"
          ]
        },
        {
          "output_type": "stream",
          "name": "stdout",
          "text": [
            "Epoch 0, Loss (SGD): 31.800771713256836\n",
            "Epoch 10, Loss (SGD): 0.8830416202545166\n",
            "Epoch 20, Loss (SGD): 0.07961750775575638\n",
            "Epoch 30, Loss (SGD): 0.05552666634321213\n",
            "Epoch 40, Loss (SGD): 0.05179131403565407\n",
            "Epoch 50, Loss (SGD): 0.048763807862997055\n",
            "Epoch 60, Loss (SGD): 0.045925140380859375\n",
            "Epoch 70, Loss (SGD): 0.043252021074295044\n",
            "Epoch 80, Loss (SGD): 0.040734581649303436\n",
            "Epoch 90, Loss (SGD): 0.03836359828710556\n",
            "Final weights (SGD): [array([[1.841803]], dtype=float32), array([0.46511844], dtype=float32)]\n"
          ]
        }
      ]
    }
  ]
}